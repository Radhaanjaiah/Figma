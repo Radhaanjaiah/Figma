{
  "nbformat": 4,
  "nbformat_minor": 0,
  "metadata": {
    "colab": {
      "provenance": [],
      "authorship_tag": "ABX9TyMqMxyWk5OkJHI2cl6MDvUg",
      "include_colab_link": true
    },
    "kernelspec": {
      "name": "python3",
      "display_name": "Python 3"
    },
    "language_info": {
      "name": "python"
    }
  },
  "cells": [
    {
      "cell_type": "markdown",
      "metadata": {
        "id": "view-in-github",
        "colab_type": "text"
      },
      "source": [
        "<a href=\"https://colab.research.google.com/github/Radhaanjaiah/Figma/blob/main/figma.ipynb\" target=\"_parent\"><img src=\"https://colab.research.google.com/assets/colab-badge.svg\" alt=\"Open In Colab\"/></a>"
      ]
    },
    {
      "cell_type": "code",
      "execution_count": null,
      "metadata": {
        "id": "mv_JNiuauoq2"
      },
      "outputs": [],
      "source": []
    },
    {
      "cell_type": "markdown",
      "source": [
        "https://www.figma.com/design/aMSMAotuZ4ThAvGoqHIBgN/Untitled?node-id=36-374&p=f&t=SvYS7VemdSJyZJC5-0"
      ],
      "metadata": {
        "id": "lDa5E0IrurJB"
      }
    }
  ]
}