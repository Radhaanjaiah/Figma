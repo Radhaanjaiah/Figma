{
  "cells": [
    {
      "cell_type": "markdown",
      "metadata": {
        "id": "view-in-github",
        "colab_type": "text"
      },
      "source": [
        "<a href=\"https://colab.research.google.com/github/Radhaanjaiah/Figma/blob/main/Figma%20profile_design_To_Colab.ipynb\" target=\"_parent\"><img src=\"https://colab.research.google.com/assets/colab-badge.svg\" alt=\"Open In Colab\"/></a>"
      ]
    },
    {
      "cell_type": "markdown",
      "source": [
        "\"Latest addition to my GitHub: a fully designed and functional profile interface crafted in Figma. Showcasing a user-centered approach to design and attention to detail.\n",
        "\n",
        "Check it out! link :- https://www.figma.com/design/aMSMAotuZ4ThAvGoqHIBgN/Untitled?node-id=17-38&p=f&t=jbLi0TlS28c54FlB-0\n",
        "\n",
        "\n",
        " #GitHubProjects\n",
        " #FigmaDesign\n",
        " #UIUX"
      ],
      "metadata": {
        "id": "bOEq1ust71dN"
      }
    }
  ],
  "metadata": {
    "colab": {
      "name": "Welcome To Colab",
      "toc_visible": true,
      "provenance": [],
      "include_colab_link": true
    },
    "kernelspec": {
      "display_name": "Python 3",
      "name": "python3"
    }
  },
  "nbformat": 4,
  "nbformat_minor": 0
}